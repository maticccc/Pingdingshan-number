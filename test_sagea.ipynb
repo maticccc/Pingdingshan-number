{
 "cells": [
  {
   "cell_type": "markdown",
   "metadata": {},
   "source": [
    "# PINGDINDSHAN'S NUMBER \n"
   ]
  },
  {
   "cell_type": "markdown",
   "metadata": {},
   "source": [
    "## PREIZKUŠANJE FUNKCIJ SAGEA"
   ]
  },
  {
   "cell_type": "code",
   "execution_count": 4,
   "metadata": {},
   "outputs": [
    {
     "data": {
      "image/png": "[encoded data removed]",
      "text/plain": [
       "Graphics object consisting of 12 graphics primitives"
      ]
     },
     "metadata": {},
     "output_type": "display_data"
    }
   ],
   "source": [
    "### Koda v Sage-u, ki izriše graf s 5 vozlišči in 6 povezavami\n",
    "\n",
    "# Uvozim razred Graph iz SageMath-a\n",
    "G = Graph()\n",
    "\n",
    "# Dodam 5 vozlišč\n",
    "G.add_vertices([1, 2, 3, 4, 5])\n",
    "\n",
    "# Vozliščem dodam povezave\n",
    "edges = [(1, 2), (2, 3), (3, 4), (4, 5), (5, 1), (2, 5)]\n",
    "G.add_edges(edges)\n",
    "\n",
    "# Izrišem graf\n",
    "G.show()\n",
    "# dob bibuuerb"
   ]
  },
  {
   "cell_type": "code",
   "execution_count": 18,
   "metadata": {},
   "outputs": [],
   "source": [
    "def pds(G):\n",
    "    stevilo = len(G.vertices())\n",
    "    for v in G.vertices():\n",
    "        for u in G.vertices():\n",
    "            if u != v:\n",
    "                stevilo += len(G.all_paths(u,v))\n",
    "    return stevilo\n"
   ]
  },
  {
   "cell_type": "code",
   "execution_count": 9,
   "metadata": {},
   "outputs": [
    {
     "data": {
      "text/plain": [
       "69"
      ]
     },
     "execution_count": 9,
     "metadata": {},
     "output_type": "execute_result"
    }
   ],
   "source": [
    "pingdingshan(G)"
   ]
  },
  {
   "cell_type": "code",
   "execution_count": 21,
   "metadata": {},
   "outputs": [
    {
     "data": {
      "image/png": "[encoded data removed]",
      "text/plain": [
       "Graphics object consisting of 12 graphics primitives"
      ]
     },
     "metadata": {},
     "output_type": "display_data"
    }
   ],
   "source": [
    "H = graphs.RandomGNM(6,5)\n",
    "H.show()"
   ]
  },
  {
   "cell_type": "markdown",
   "metadata": {},
   "source": []
  },
  {
   "cell_type": "code",
   "execution_count": 22,
   "metadata": {},
   "outputs": [
    {
     "data": {
      "text/plain": [
       "36"
      ]
     },
     "execution_count": 22,
     "metadata": {},
     "output_type": "execute_result"
    }
   ],
   "source": [
    "pingdingshan(H)"
   ]
  },
  {
   "cell_type": "markdown",
   "metadata": {},
   "source": [
    "## VSI GRAFI"
   ]
  },
  {
   "cell_type": "code",
   "execution_count": null,
   "metadata": {},
   "outputs": [
    {
     "data": {
      "text/plain": [
       "[Graph on 1 vertex,\n",
       " Graph on 2 vertices,\n",
       " Graph on 3 vertices,\n",
       " Graph on 3 vertices,\n",
       " Graph on 4 vertices,\n",
       " Graph on 4 vertices,\n",
       " Graph on 4 vertices,\n",
       " Graph on 4 vertices,\n",
       " Graph on 4 vertices,\n",
       " Graph on 4 vertices,\n",
       " Graph on 5 vertices,\n",
       " Graph on 5 vertices,\n",
       " Graph on 5 vertices,\n",
       " Graph on 5 vertices,\n",
       " Graph on 5 vertices,\n",
       " Graph on 5 vertices,\n",
       " Graph on 5 vertices,\n",
       " Graph on 5 vertices,\n",
       " Graph on 5 vertices,\n",
       " Graph on 5 vertices,\n",
       " Graph on 5 vertices,\n",
       " Graph on 5 vertices,\n",
       " Graph on 5 vertices,\n",
       " Graph on 5 vertices,\n",
       " Graph on 5 vertices,\n",
       " Graph on 5 vertices,\n",
       " Graph on 5 vertices,\n",
       " Graph on 5 vertices,\n",
       " Graph on 5 vertices,\n",
       " Graph on 5 vertices,\n",
       " Graph on 5 vertices,\n",
       " Graph on 6 vertices,\n",
       " Graph on 6 vertices,\n",
       " Graph on 6 vertices,\n",
       " Graph on 6 vertices,\n",
       " Graph on 6 vertices,\n",
       " Graph on 6 vertices,\n",
       " Graph on 6 vertices,\n",
       " Graph on 6 vertices,\n",
       " Graph on 6 vertices,\n",
       " Graph on 6 vertices,\n",
       " Graph on 6 vertices,\n",
       " Graph on 6 vertices,\n",
       " Graph on 6 vertices,\n",
       " Graph on 6 vertices,\n",
       " Graph on 6 vertices,\n",
       " Graph on 6 vertices,\n",
       " Graph on 6 vertices,\n",
       " Graph on 6 vertices,\n",
       " Graph on 6 vertices,\n",
       " Graph on 6 vertices,\n",
       " Graph on 6 vertices,\n",
       " Graph on 6 vertices,\n",
       " Graph on 6 vertices,\n",
       " Graph on 6 vertices,\n",
       " Graph on 6 vertices,\n",
       " Graph on 6 vertices,\n",
       " Graph on 6 vertices,\n",
       " Graph on 6 vertices,\n",
       " Graph on 6 vertices,\n",
       " Graph on 6 vertices,\n",
       " Graph on 6 vertices,\n",
       " Graph on 6 vertices,\n",
       " Graph on 6 vertices,\n",
       " Graph on 6 vertices,\n",
       " Graph on 6 vertices,\n",
       " Graph on 6 vertices,\n",
       " Graph on 6 vertices,\n",
       " Graph on 6 vertices,\n",
       " Graph on 6 vertices,\n",
       " Graph on 6 vertices,\n",
       " Graph on 6 vertices,\n",
       " Graph on 6 vertices,\n",
       " Graph on 6 vertices,\n",
       " Graph on 6 vertices,\n",
       " Graph on 6 vertices,\n",
       " Graph on 6 vertices,\n",
       " Graph on 6 vertices,\n",
       " Graph on 6 vertices,\n",
       " Graph on 6 vertices,\n",
       " Graph on 6 vertices,\n",
       " Graph on 6 vertices,\n",
       " Graph on 6 vertices,\n",
       " Graph on 6 vertices,\n",
       " Graph on 6 vertices,\n",
       " Graph on 6 vertices,\n",
       " Graph on 6 vertices,\n",
       " Graph on 6 vertices,\n",
       " Graph on 6 vertices,\n",
       " Graph on 6 vertices,\n",
       " Graph on 6 vertices,\n",
       " Graph on 6 vertices,\n",
       " Graph on 6 vertices,\n",
       " Graph on 6 vertices,\n",
       " Graph on 6 vertices,\n",
       " Graph on 6 vertices,\n",
       " Graph on 6 vertices,\n",
       " Graph on 6 vertices,\n",
       " Graph on 6 vertices,\n",
       " Graph on 6 vertices,\n",
       " Graph on 6 vertices,\n",
       " Graph on 6 vertices,\n",
       " Graph on 6 vertices,\n",
       " Graph on 6 vertices,\n",
       " Graph on 6 vertices,\n",
       " Graph on 6 vertices,\n",
       " Graph on 6 vertices,\n",
       " Graph on 6 vertices,\n",
       " Graph on 6 vertices,\n",
       " Graph on 6 vertices,\n",
       " Graph on 6 vertices,\n",
       " Graph on 6 vertices,\n",
       " Graph on 6 vertices,\n",
       " Graph on 6 vertices,\n",
       " Graph on 6 vertices,\n",
       " Graph on 6 vertices,\n",
       " Graph on 6 vertices,\n",
       " Graph on 6 vertices,\n",
       " Graph on 6 vertices,\n",
       " Graph on 6 vertices,\n",
       " Graph on 6 vertices,\n",
       " Graph on 6 vertices,\n",
       " Graph on 6 vertices,\n",
       " Graph on 6 vertices,\n",
       " Graph on 6 vertices,\n",
       " Graph on 6 vertices,\n",
       " Graph on 6 vertices,\n",
       " Graph on 6 vertices,\n",
       " Graph on 6 vertices,\n",
       " Graph on 6 vertices,\n",
       " Graph on 6 vertices,\n",
       " Graph on 6 vertices,\n",
       " Graph on 6 vertices,\n",
       " Graph on 6 vertices,\n",
       " Graph on 6 vertices,\n",
       " Graph on 6 vertices,\n",
       " Graph on 6 vertices,\n",
       " Graph on 6 vertices,\n",
       " Graph on 6 vertices,\n",
       " Graph on 6 vertices,\n",
       " Graph on 6 vertices,\n",
       " Graph on 6 vertices,\n",
       " Graph on 6 vertices]"
      ]
     },
     "execution_count": 1,
     "metadata": {},
     "output_type": "execute_result"
    }
   ],
   "source": [
    "# Funkcija, ki ustvari vse grafe na i=1,...,12 vozliščih\n",
    "def vsi_grafi():\n",
    "    seznam_vseh = []\n",
    "    for i in range(1,7):\n",
    "        G = list(graphs(i))\n",
    "        for g in G:\n",
    "            if g.is_connected():\n",
    "                seznam_vseh.append(g)\n",
    "    return seznam_vseh\n",
    "\n",
    "vsi_grafi = vsi_grafi()\n",
    "vsi_grafi\n",
    "\n"
   ]
  },
  {
   "cell_type": "code",
   "execution_count": null,
   "metadata": {},
   "outputs": [],
   "source": [
    "from sage.graphs.graph_generators import GraphGenerators"
   ]
  },
  {
   "cell_type": "code",
   "execution_count": 24,
   "metadata": {},
   "outputs": [
    {
     "ename": "AttributeError",
     "evalue": "type object 'GraphGenerators' has no attribute 'all_graphs'",
     "output_type": "error",
     "traceback": [
      "\u001b[0;31m---------------------------------------------------------------------------\u001b[0m",
      "\u001b[0;31mAttributeError\u001b[0m                            Traceback (most recent call last)",
      "Cell \u001b[0;32mIn[24], line 1\u001b[0m\n\u001b[0;32m----> 1\u001b[0m \u001b[38;5;28;01mfor\u001b[39;00m G \u001b[38;5;129;01min\u001b[39;00m \u001b[43mGraphGenerators\u001b[49m\u001b[38;5;241;43m.\u001b[39;49m\u001b[43mall_graphs\u001b[49m(Integer(\u001b[38;5;241m3\u001b[39m)):\n\u001b[1;32m      2\u001b[0m     show(G)\n",
      "\u001b[0;31mAttributeError\u001b[0m: type object 'GraphGenerators' has no attribute 'all_graphs'"
     ]
    }
   ],
   "source": [
    "for G in GraphGenerators.all_graphs(3):\n",
    "    show(G)"
   ]
  },
  {
   "cell_type": "markdown",
   "metadata": {},
   "source": [
    "## DVODELNI GRAFI"
   ]
  },
  {
   "cell_type": "code",
   "execution_count": 2,
   "metadata": {},
   "outputs": [
    {
     "data": {
      "text/plain": [
       "90"
      ]
     },
     "execution_count": 2,
     "metadata": {},
     "output_type": "execute_result"
    }
   ],
   "source": [
    "# Funkcija, ki ustvari vse dvodelne grafe na i vozliščih, kjer i = 1, ..., 12.\n",
    "\n",
    "def dvodelni_grafi():\n",
    "    seznam_dvodelnih = []\n",
    "    for i in range(1, 13):\n",
    "        for k in range(0, i + 1):\n",
    "            dvodelen_graf = graphs.CompleteBipartiteGraph(k, i - k)\n",
    "            seznam_dvodelnih.append(dvodelen_graf)\n",
    "    return seznam_dvodelnih\n",
    "\n",
    "dvodelni = dvodelni_grafi()\n",
    "len(dvodelni)\n"
   ]
  },
  {
   "cell_type": "code",
   "execution_count": null,
   "metadata": {},
   "outputs": [
    {
     "ename": "SyntaxError",
     "evalue": "'return' outside function (1681668147.py, line 7)",
     "output_type": "error",
     "traceback": [
      "\u001b[0;36m  Cell \u001b[0;32mIn[32], line 7\u001b[0;36m\u001b[0m\n\u001b[0;31m    return pds_dvodelni\u001b[0m\n\u001b[0m    ^\u001b[0m\n\u001b[0;31mSyntaxError\u001b[0m\u001b[0;31m:\u001b[0m 'return' outside function\n"
     ]
    }
   ],
   "source": [
    "pds_dvodelni = {}\n",
    "def st_poti(seznam_grafov):\n",
    "    \n",
    "    for G in seznam_grafov:\n",
    "        st_vozlisc = len(G.vertices())\n",
    "        if pds_dvodelni.get(st_vozlisc) is None:\n",
    "            pds_dvodelni[st_vozlisc] = []\n",
    "        pds_dvodelni[st_vozlisc] = pds_dvodelni[st_vozlisc].append(pds(G))\n",
    "    return pds_dvodelni \n"
   ]
  },
  {
   "cell_type": "markdown",
   "metadata": {},
   "source": [
    "## GRAFI BREZ CIKLOV DOLŽINE TRI"
   ]
  },
  {
   "cell_type": "markdown",
   "metadata": {},
   "source": [
    "Naslednja funkcija iz množice vseh grafov izbere tiste, ki ne vsebujejo trikotnikov oz. cikov dolžine 3. To stori za vse grafe z 1,...,12 vozlišči"
   ]
  },
  {
   "cell_type": "code",
   "execution_count": null,
   "metadata": {},
   "outputs": [],
   "source": [
    "def grafi_brez_trikotnikov():\n",
    "    seznam_brez_trikotnikov = []\n",
    "    trikotnik = graphs.CycleGraph(3)\n",
    "    for g in vsi_grafi:\n",
    "        if g.subgraph_search(trikotnik) is None:\n",
    "            seznam_brez_trikotnikov.append(g)\n",
    "    return seznam_brez_trikotnikov\n",
    "            \n",
    "grafi_brez_trikotnikov = grafi_brez_trikotnikov()\n",
    "        "
   ]
  },
  {
   "cell_type": "markdown",
   "metadata": {},
   "source": [
    "Za vsak graf brez trikotnikov izračunamo pds. Glede na število poti, naslednja funkcija oblikuje slovar, ki vsakemu številu vozlišč od 1 do 12 pripiše preštete poti na vseh grafih s takim številom vozlišč.\n"
   ]
  },
  {
   "cell_type": "code",
   "execution_count": 20,
   "metadata": {},
   "outputs": [],
   "source": [
    "slovar_brez_trikotnikov = {\n",
    "    1:[], 2:[], 3:[], 4:[], 5:[], 6:[],7:[], 8:[], 9:[], 10:[], 11:[], 12:[]}\n",
    "\n",
    "def pds_brez_trikotnikov():\n",
    "    for g in grafi_brez_trikotnikov:\n",
    "        slovar_brez_trikotnikov[g.order()].append(pds(g))\n",
    "    return slovar_brez_trikotnikov\n",
    "\n",
    "pds_brez_trikotnikov= pds_brez_trikotnikov()"
   ]
  }
 ],
 "metadata": {
  "kernelspec": {
   "display_name": "SageMath 10.4",
   "language": "sage",
   "name": "sagemath"
  },
  "language_info": {
   "codemirror_mode": {
    "name": "ipython",
    "version": 3
   },
   "file_extension": ".py",
   "mimetype": "text/x-python",
   "name": "python",
   "nbconvert_exporter": "python",
   "pygments_lexer": "ipython3",
   "version": "3.11.10"
  }
 },
 "nbformat": 4,
 "nbformat_minor": 2
}
