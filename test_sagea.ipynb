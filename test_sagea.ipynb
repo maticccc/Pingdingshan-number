{
 "cells": [
  {
   "cell_type": "markdown",
   "metadata": {},
   "source": [
    "# PINGDINDSHAN'S NUMBER \n"
   ]
  },
  {
   "cell_type": "markdown",
   "metadata": {},
   "source": [
    "## PREIZKUŠANJE FUNKCIJ SAGEA"
   ]
  },
  {
   "cell_type": "code",
   "execution_count": 15,
   "metadata": {},
   "outputs": [
    {
     "data": {
      "image/png": "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",
      "text/plain": [
       "Graphics object consisting of 12 graphics primitives"
      ]
     },
     "metadata": {},
     "output_type": "display_data"
    }
   ],
   "source": [
    "### Koda v Sage-u, ki izriše graf s 5 vozlišči in 6 povezavami\n",
    "\n",
    "# Uvozim razred Graph iz SageMath-a\n",
    "G = Graph()\n",
    "\n",
    "# Dodam 5 vozlišč\n",
    "G.add_vertices([1, 2, 3, 4, 5])\n",
    "\n",
    "# Vozliščem dodam povezave\n",
    "edges = [(1, 2), (2, 3), (3, 4), (4, 5), (5, 1), (2, 5)]\n",
    "G.add_edges(edges)\n",
    "\n",
    "# Izrišem graf\n",
    "G.show()\n",
    "# dob bibuuerb"
   ]
  },
  {
   "cell_type": "code",
   "execution_count": 16,
   "metadata": {},
   "outputs": [],
   "source": [
    "%%cython\n",
    "# Hitrejsa razlicica stetja poti - ce ne deluje, odstrani zgornjo vrstico in glej spodaj se v funkciji pds!\n",
    "\n",
    "from sage.combinat.combination import Combinations\n",
    "from sage.rings.integer import Integer\n",
    "\n",
    "\n",
    "def count_paths(G, start, end):\n",
    "    \"\"\"\n",
    "    Presteje poti v neusmerjenem grafu ``G`` od ``start`` do ``end``.\n",
    "\n",
    "    Koda je povzeta po ``sage.graphs.path_enumeration.all_paths``.\n",
    "    \"\"\"\n",
    "    count_paths = Integer(0)\n",
    "    act_path = []       # the current path\n",
    "    act_path_iter = []  # the neighbor/successor-iterators of the current path\n",
    "    s = start\n",
    "    while True:\n",
    "        if s == end:    # if path completes, add to count\n",
    "            count_paths += Integer(1)\n",
    "        else:\n",
    "            if s not in act_path:   # we want vertices just once in a path\n",
    "                act_path.append(s)  # extend current path\n",
    "                act_path_iter.append(G.neighbor_iterator(s))  # save the state of the neighbor/successor-iterator of the current vertex\n",
    "        s = None\n",
    "        while s is None:\n",
    "            try:\n",
    "                s = next(act_path_iter[-1])  # try to get the next neighbor/successor, ...\n",
    "            except (StopIteration):          # ... if there is none ...\n",
    "                act_path.pop()               # ... go one step back\n",
    "                act_path_iter.pop()\n",
    "            if not act_path:                 # there is no other vertex ...\n",
    "                return count_paths           # ... so we are done\n",
    "\n",
    "\n",
    "def pds(G):\n",
    "    \"\"\"\n",
    "    Presteje poti v neusmerjenem grafu ``G``.\n",
    "    \"\"\"\n",
    "    count = G.order()\n",
    "    for u, v in Combinations(G, 2):\n",
    "        count += count_paths(G, u, v) # ce ne deluje s %%cython, zakomentiraj to in odkomentiraj naslednjo vrstico\n",
    "        # count += len(G.all_paths(u, v))\n",
    "    return count"
   ]
  },
  {
   "cell_type": "code",
   "execution_count": 17,
   "metadata": {},
   "outputs": [
    {
     "data": {
      "text/plain": [
       "37"
      ]
     },
     "execution_count": 17,
     "metadata": {},
     "output_type": "execute_result"
    }
   ],
   "source": [
    "pds(G)"
   ]
  },
  {
   "cell_type": "code",
   "execution_count": 18,
   "metadata": {},
   "outputs": [
    {
     "data": {
      "image/png": "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",
      "text/plain": [
       "Graphics object consisting of 12 graphics primitives"
      ]
     },
     "metadata": {},
     "output_type": "display_data"
    }
   ],
   "source": [
    "H = graphs.RandomGNM(6,5)\n",
    "H.show()"
   ]
  },
  {
   "cell_type": "markdown",
   "metadata": {},
   "source": []
  },
  {
   "cell_type": "code",
   "execution_count": 19,
   "metadata": {},
   "outputs": [
    {
     "ename": "NameError",
     "evalue": "name 'pingdingshan' is not defined",
     "output_type": "error",
     "traceback": [
      "\u001b[0;31m---------------------------------------------------------------------------\u001b[0m",
      "\u001b[0;31mNameError\u001b[0m                                 Traceback (most recent call last)",
      "Cell \u001b[0;32mIn[19], line 1\u001b[0m\n\u001b[0;32m----> 1\u001b[0m \u001b[43mpingdingshan\u001b[49m(H)\n",
      "\u001b[0;31mNameError\u001b[0m: name 'pingdingshan' is not defined"
     ]
    }
   ],
   "source": [
    "pingdingshan(H)"
   ]
  },
  {
   "cell_type": "markdown",
   "metadata": {},
   "source": [
    "## VSI GRAFI"
   ]
  },
  {
   "cell_type": "markdown",
   "metadata": {},
   "source": [
    "Spodaj je definirana funkcija ustvari_vse_grafe, ki ustvari vse povezane grafe na $1,...,12$ vozliščih. Funkcija vključi tudi vse izomorfne grafe."
   ]
  },
  {
   "cell_type": "code",
   "execution_count": null,
   "metadata": {},
   "outputs": [
    {
     "ename": "ValueError",
     "evalue": "too many values to unpack (expected 2)",
     "output_type": "error",
     "traceback": [
      "\u001b[0;31m---------------------------------------------------------------------------\u001b[0m",
      "\u001b[0;31mValueError\u001b[0m                                Traceback (most recent call last)",
      "Cell \u001b[0;32mIn[13], line 20\u001b[0m\n\u001b[1;32m     17\u001b[0m     \u001b[38;5;28;01mreturn\u001b[39;00m vsi_povezani_grafi\n\u001b[1;32m     19\u001b[0m \u001b[38;5;66;03m# Test kode\u001b[39;00m\n\u001b[0;32m---> 20\u001b[0m povezani_grafi, st_povezanih \u001b[38;5;241m=\u001b[39m ustvari_vse_grafe()\n\u001b[1;32m     21\u001b[0m \u001b[38;5;28mprint\u001b[39m(\u001b[38;5;124mf\u001b[39m\u001b[38;5;124m\"\u001b[39m\u001b[38;5;124mŠtevilo vseh povezanih grafov na 6 vozliščih je: \u001b[39m\u001b[38;5;132;01m{\u001b[39;00mst_povezanih\u001b[38;5;132;01m}\u001b[39;00m\u001b[38;5;124m\"\u001b[39m)\n",
      "\u001b[0;31mValueError\u001b[0m: too many values to unpack (expected 2)"
     ]
    }
   ],
   "source": [
    "def ustvari_vse_grafe():\n",
    "    from itertools import combinations\n",
    "    vozlisca = [1, 2, 3, 4, 5]\n",
    "    vsi_povezani_grafi = []\n",
    "    \n",
    "    vse_mozne_povezave = list(combinations(vozlisca, 2))\n",
    "    \n",
    "    for r in range(len(vozlisca) - 1, len(vse_mozne_povezave) + 1):\n",
    "        for edges in combinations(vse_mozne_povezave, r):\n",
    "            G = Graph()\n",
    "            G.add_vertices(vozlisca)\n",
    "            G.add_edges(edges)\n",
    "            \n",
    "            if G.is_connected():\n",
    "                vsi_povezani_grafi.append(G)\n",
    "    \n",
    "    return vsi_povezani_grafi\n",
    "\n",
    "# Test kode\n",
    "povezani_grafi, st_povezanih = ustvari_vse_grafe()\n",
    "print(f\"Število vseh povezanih grafov na 6 vozliščih je: {st_povezanih}\")"
   ]
  },
  {
   "cell_type": "code",
   "execution_count": null,
   "metadata": {},
   "outputs": [
    {
     "data": {
      "text/plain": [
       "12"
      ]
     },
     "execution_count": 8,
     "metadata": {},
     "output_type": "execute_result"
    }
   ],
   "source": [
    "# Funkcija, ki ustvari generatorje za vse grafe na i=1,...,12 vozliščih. Generator pomeni,\n",
    "# da je v pomnilniku le navodilo za ustvarjanje grafa, ne pa celoten graf. Zaradi tega je \n",
    "# program hitrejši in porabi manj prostora na pomnilniku. Funkcija vrne 12 generatorjev,\n",
    "# vsak naj bi vrnil vse grafe na i vozliščih ( en generator za vsak i)\n",
    "def gen_vsi_grafi():\n",
    "    gen_vseh = []\n",
    "    for i in range(1, 13):\n",
    "        gen_vseh.append(graphs.nauty_geng(f\"{i} -c\"))\n",
    "    return gen_vseh\n",
    "\n",
    "len(gen_vsi_grafi())"
   ]
  },
  {
   "cell_type": "code",
   "execution_count": null,
   "metadata": {},
   "outputs": [],
   "source": [
    "from sage.graphs.graph_generators import GraphGenerators"
   ]
  },
  {
   "cell_type": "code",
   "execution_count": null,
   "metadata": {},
   "outputs": [
    {
     "ename": "AttributeError",
     "evalue": "type object 'GraphGenerators' has no attribute 'all_graphs'",
     "output_type": "error",
     "traceback": [
      "\u001b[0;31m---------------------------------------------------------------------------\u001b[0m",
      "\u001b[0;31mAttributeError\u001b[0m                            Traceback (most recent call last)",
      "Cell \u001b[0;32mIn[24], line 1\u001b[0m\n\u001b[0;32m----> 1\u001b[0m \u001b[38;5;28;01mfor\u001b[39;00m G \u001b[38;5;129;01min\u001b[39;00m \u001b[43mGraphGenerators\u001b[49m\u001b[38;5;241;43m.\u001b[39;49m\u001b[43mall_graphs\u001b[49m(Integer(\u001b[38;5;241m3\u001b[39m)):\n\u001b[1;32m      2\u001b[0m     show(G)\n",
      "\u001b[0;31mAttributeError\u001b[0m: type object 'GraphGenerators' has no attribute 'all_graphs'"
     ]
    }
   ],
   "source": [
    "for G in GraphGenerators.all_graphs(3):\n",
    "    show(G)"
   ]
  },
  {
   "cell_type": "markdown",
   "metadata": {},
   "source": [
    "## DVODELNI GRAFI"
   ]
  },
  {
   "cell_type": "code",
   "execution_count": null,
   "metadata": {},
   "outputs": [
    {
     "data": {
      "text/plain": [
       "90"
      ]
     },
     "execution_count": 2,
     "metadata": {},
     "output_type": "execute_result"
    }
   ],
   "source": [
    "# Funkcija, ki ustvari vse dvodelne grafe na i vozliščih, kjer i = 1, ..., 12.\n",
    "\n",
    "def dvodelni_grafi():\n",
    "    seznam_dvodelnih = []\n",
    "    for i in range(1, 13):\n",
    "        for k in range(0, i + 1):\n",
    "            dvodelen_graf = graphs.CompleteBipartiteGraph(k, i - k)\n",
    "            seznam_dvodelnih.append(dvodelen_graf)\n",
    "    return seznam_dvodelnih\n",
    "\n",
    "dvodelni = dvodelni_grafi()\n",
    "len(dvodelni)\n"
   ]
  },
  {
   "cell_type": "code",
   "execution_count": null,
   "metadata": {},
   "outputs": [
    {
     "ename": "SyntaxError",
     "evalue": "'return' outside function (1681668147.py, line 7)",
     "output_type": "error",
     "traceback": [
      "\u001b[0;36m  Cell \u001b[0;32mIn[32], line 7\u001b[0;36m\u001b[0m\n\u001b[0;31m    return pds_dvodelni\u001b[0m\n\u001b[0m    ^\u001b[0m\n\u001b[0;31mSyntaxError\u001b[0m\u001b[0;31m:\u001b[0m 'return' outside function\n"
     ]
    }
   ],
   "source": [
    "pds_dvodelni = {}\n",
    "def st_poti(seznam_grafov):\n",
    "    \n",
    "    for G in seznam_grafov:\n",
    "        st_vozlisc = len(G.vertices())\n",
    "        if pds_dvodelni.get(st_vozlisc) is None:\n",
    "            pds_dvodelni[st_vozlisc] = []\n",
    "        pds_dvodelni[st_vozlisc] = pds_dvodelni[st_vozlisc].append(pds(G))\n",
    "    return pds_dvodelni \n"
   ]
  },
  {
   "cell_type": "markdown",
   "metadata": {},
   "source": [
    "## GRAFI BREZ CIKLOV DOLŽINE TRI"
   ]
  },
  {
   "cell_type": "markdown",
   "metadata": {},
   "source": [
    "Naslednja funkcija iz množice vseh grafov izbere tiste, ki ne vsebujejo trikotnikov oz. cikov dolžine 3. To stori za vse grafe z 1,...,12 vozlišči"
   ]
  },
  {
   "cell_type": "code",
   "execution_count": null,
   "metadata": {},
   "outputs": [],
   "source": [
    "def grafi_brez_trikotnikov():\n",
    "    seznam_brez_trikotnikov = []\n",
    "    trikotnik = graphs.CycleGraph(3)\n",
    "    for g in vsi_grafi:\n",
    "        if g.subgraph_search(trikotnik) is None:\n",
    "            seznam_brez_trikotnikov.append(g)\n",
    "    return seznam_brez_trikotnikov\n",
    "            \n",
    "grafi_brez_trikotnikov = grafi_brez_trikotnikov()\n",
    "        "
   ]
  },
  {
   "cell_type": "code",
   "execution_count": null,
   "metadata": {},
   "outputs": [],
   "source": [
    "def gen_grafi_brez_trikotnikov():\n",
    "    gen_brez_trik = []\n",
    "    for i in range(1,13):\n",
    "        gen_brez_trik.append(graphs.nauty_geng(f\"{i} -c -t\"))\n",
    "    return gen_brez_trik\n",
    "\n",
    "grafi_brez_trikotnikov = gen_grafi_brez_trikotnikov()"
   ]
  },
  {
   "cell_type": "markdown",
   "metadata": {},
   "source": [
    "Za vsak graf brez trikotnikov izračunamo pds. Glede na število poti, naslednja funkcija oblikuje slovar, ki vsakemu številu vozlišč od 1 do 12 pripiše preštete poti na vseh grafih s takim številom vozlišč.\n"
   ]
  },
  {
   "cell_type": "code",
   "execution_count": null,
   "metadata": {},
   "outputs": [
    {
     "ename": "KeyboardInterrupt",
     "evalue": "",
     "output_type": "error",
     "traceback": [
      "\u001b[0;31m---------------------------------------------------------------------------\u001b[0m",
      "\u001b[0;31mKeyboardInterrupt\u001b[0m                         Traceback (most recent call last)",
      "Cell \u001b[0;32mIn[32], line 10\u001b[0m\n\u001b[1;32m      7\u001b[0m             slovar_brez_trikotnikov[g\u001b[38;5;241m.\u001b[39morder()]\u001b[38;5;241m.\u001b[39mappend(pds(g))\n\u001b[1;32m      8\u001b[0m     \u001b[38;5;28;01mreturn\u001b[39;00m slovar_brez_trikotnikov\n\u001b[0;32m---> 10\u001b[0m pds_brez_trikotnikov\u001b[38;5;241m=\u001b[39m \u001b[43mpds_brez_trikotnikov\u001b[49m\u001b[43m(\u001b[49m\u001b[43m)\u001b[49m\n",
      "Cell \u001b[0;32mIn[32], line 7\u001b[0m, in \u001b[0;36mpds_brez_trikotnikov\u001b[0;34m()\u001b[0m\n\u001b[1;32m      5\u001b[0m \u001b[38;5;28;01mfor\u001b[39;00m gen \u001b[38;5;129;01min\u001b[39;00m grafi_brez_trikotnikov:\n\u001b[1;32m      6\u001b[0m     \u001b[38;5;28;01mfor\u001b[39;00m g \u001b[38;5;129;01min\u001b[39;00m gen:\n\u001b[0;32m----> 7\u001b[0m         slovar_brez_trikotnikov[g\u001b[38;5;241m.\u001b[39morder()]\u001b[38;5;241m.\u001b[39mappend(\u001b[43mpds\u001b[49m\u001b[43m(\u001b[49m\u001b[43mg\u001b[49m\u001b[43m)\u001b[49m)\n\u001b[1;32m      8\u001b[0m \u001b[38;5;28;01mreturn\u001b[39;00m slovar_brez_trikotnikov\n",
      "Cell \u001b[0;32mIn[18], line 6\u001b[0m, in \u001b[0;36mpds\u001b[0;34m(G)\u001b[0m\n\u001b[1;32m      4\u001b[0m     \u001b[38;5;28;01mfor\u001b[39;00m u \u001b[38;5;129;01min\u001b[39;00m G\u001b[38;5;241m.\u001b[39mvertices():\n\u001b[1;32m      5\u001b[0m         \u001b[38;5;28;01mif\u001b[39;00m u \u001b[38;5;241m!=\u001b[39m v:\n\u001b[0;32m----> 6\u001b[0m             stevilo \u001b[38;5;241m+\u001b[39m\u001b[38;5;241m=\u001b[39m \u001b[38;5;28mlen\u001b[39m(\u001b[43mG\u001b[49m\u001b[38;5;241;43m.\u001b[39;49m\u001b[43mall_paths\u001b[49m\u001b[43m(\u001b[49m\u001b[43mu\u001b[49m\u001b[43m,\u001b[49m\u001b[43mv\u001b[49m\u001b[43m)\u001b[49m)\n\u001b[1;32m      7\u001b[0m \u001b[38;5;28;01mreturn\u001b[39;00m stevilo\n",
      "File \u001b[0;32m~/miniforge3/envs/sage/lib/python3.11/site-packages/sage/graphs/path_enumeration.pyx:255\u001b[0m, in \u001b[0;36msage.graphs.path_enumeration.all_paths (build/cythonized/sage/graphs/path_enumeration.cpp:6217)\u001b[0;34m()\u001b[0m\n\u001b[1;32m    253\u001b[0m while (s is None) and not done:\n\u001b[1;32m    254\u001b[0m     try:\n\u001b[0;32m--> 255\u001b[0m         s = next(act_path_iter[-1])  # try to get the next neighbor/successor, ...\n\u001b[1;32m    256\u001b[0m     except (StopIteration):          # ... if there is none ...\n\u001b[1;32m    257\u001b[0m         act_path.pop()               # ... go one step back\n",
      "File \u001b[0;32m~/miniforge3/envs/sage/lib/python3.11/site-packages/sage/graphs/generic_graph.py:11923\u001b[0m, in \u001b[0;36mGenericGraph.neighbor_iterator\u001b[0;34m(self, vertex, closed)\u001b[0m\n\u001b[1;32m  11919\u001b[0m         \u001b[38;5;28;01myield from\u001b[39;00m \u001b[38;5;28mself\u001b[39m\u001b[38;5;241m.\u001b[39m_backend\u001b[38;5;241m.\u001b[39miterator_verts(vertices)\n\u001b[1;32m  11921\u001b[0m \u001b[38;5;21m__iter__\u001b[39m \u001b[38;5;241m=\u001b[39m vertex_iterator\n\u001b[0;32m> 11923\u001b[0m \u001b[38;5;28;01mdef\u001b[39;00m \u001b[38;5;21mneighbor_iterator\u001b[39m(\u001b[38;5;28mself\u001b[39m, vertex, closed\u001b[38;5;241m=\u001b[39m\u001b[38;5;28;01mFalse\u001b[39;00m):\n\u001b[1;32m  11924\u001b[0m \u001b[38;5;250m    \u001b[39m\u001b[38;5;124;03m\"\"\"\u001b[39;00m\n\u001b[1;32m  11925\u001b[0m \u001b[38;5;124;03m    Return an iterator over neighbors of ``vertex``.\u001b[39;00m\n\u001b[1;32m  11926\u001b[0m \n\u001b[0;32m   (...)\u001b[0m\n\u001b[1;32m  11982\u001b[0m \u001b[38;5;124;03m        LookupError: vertex (013) is not a vertex of the graph\u001b[39;00m\n\u001b[1;32m  11983\u001b[0m \u001b[38;5;124;03m    \"\"\"\u001b[39;00m\n\u001b[1;32m  11985\u001b[0m     \u001b[38;5;28;01mif\u001b[39;00m closed:\n",
      "File \u001b[0;32msrc/cysignals/signals.pyx:310\u001b[0m, in \u001b[0;36mcysignals.signals.python_check_interrupt\u001b[0;34m()\u001b[0m\n",
      "\u001b[0;31mKeyboardInterrupt\u001b[0m: "
     ]
    }
   ],
   "source": [
    "slovar_brez_trikotnikov = {\n",
    "    1:[], 2:[], 3:[], 4:[], 5:[], 6:[],7:[], 8:[], 9:[], 10:[], 11:[], 12:[]}\n",
    "\n",
    "def pds_brez_trikotnikov():\n",
    "    for gen in grafi_brez_trikotnikov:\n",
    "        for g in gen:\n",
    "            slovar_brez_trikotnikov[g.order()].append(pds(g))\n",
    "    return slovar_brez_trikotnikov\n",
    "\n",
    "pds_brez_trikotnikov= pds_brez_trikotnikov()"
   ]
  },
  {
   "cell_type": "markdown",
   "metadata": {},
   "source": [
    "## KUBIČNI GRAFI"
   ]
  },
  {
   "cell_type": "markdown",
   "metadata": {},
   "source": [
    "Za kubične grafe velja, da imajo vsa vozlišča v takem grafu stopnjo natanko 3 (pravimo jim tudi 3-regularni grafi). Lastnost kubičnih grafov je tudi, da jih lahko dobimo le na sodo mnogo vozliščih. Spodnji funkciji služita generaciji teh grafov na i vozluščih za i=1,...,12 in šteju vseh poti na teh grafih."
   ]
  },
  {
   "cell_type": "code",
<<<<<<< HEAD
   "execution_count": 58,
=======
   "execution_count": null,
>>>>>>> ca5c715dde959ff8ecea5cdf07b11516c43bdf76
   "metadata": {},
   "outputs": [],
   "source": [
    "def gen_kub_grafi():\n",
    "    gen_kub_grafi = []\n",
    "    for i in range(2,13,2):\n",
    "        gen_kub_grafi.append(graphs.nauty_geng(f\"{i} -c -d3 -D3\"))\n",
    "    return gen_kub_grafi\n",
    "\n",
    "kub_grafi = gen_kub_grafi()"
   ]
  },
  {
   "cell_type": "code",
<<<<<<< HEAD
   "execution_count": 61,
=======
   "execution_count": null,
   "metadata": {},
   "outputs": [
    {
     "name": "stdout",
     "output_type": "stream",
     "text": [
      "6\n",
      "6\n"
     ]
    }
   ],
   "source": [
    "for g in graphs.nauty_geng(\"6 -c -d3 -D3\"):\n",
    "    print(g.order())"
   ]
  },
  {
   "cell_type": "code",
   "execution_count": null,
>>>>>>> ca5c715dde959ff8ecea5cdf07b11516c43bdf76
   "metadata": {},
   "outputs": [],
   "source": [
    "slovar_kub_grafi = {\n",
    "    2:[],4:[],6:[],8:[],10:[],12:[]}\n",
    "\n",
    "def pds_kub_grafi():\n",
    "    for gen in kub_grafi:\n",
    "        for g in gen:\n",
    "            slovar_kub_grafi[g.order()].append(pds(g))\n",
    "    return slovar_kub_grafi\n",
    "\n",
    "pds_kub_grafi= pds_kub_grafi()"
   ]
  },
  {
   "cell_type": "code",
<<<<<<< HEAD
   "execution_count": 62,
=======
   "execution_count": null,
>>>>>>> ca5c715dde959ff8ecea5cdf07b11516c43bdf76
   "metadata": {},
   "outputs": [
    {
     "data": {
      "text/plain": [
       "{2: [],\n",
       " 4: [34],\n",
       " 6: [141, 135],\n",
       " 8: [452, 460, 426, 376, 446],\n",
       " 10: [1303,\n",
       "  1305,\n",
       "  1295,\n",
       "  1093,\n",
       "  1241,\n",
       "  1185,\n",
       "  643,\n",
       "  1039,\n",
       "  1335,\n",
       "  1279,\n",
       "  1243,\n",
       "  1255,\n",
       "  1351,\n",
       "  1375,\n",
       "  1181,\n",
       "  1183,\n",
       "  1237,\n",
       "  915,\n",
       "  1049],\n",
       " 12: [2946,\n",
       "  3378,\n",
       "  3378,\n",
       "  3546,\n",
       "  3666,\n",
       "  3390,\n",
       "  3614,\n",
       "  2830,\n",
       "  2446,\n",
       "  3330,\n",
       "  3346,\n",
       "  3466,\n",
       "  3746,\n",
       "  3458,\n",
       "  3422,\n",
       "  3448,\n",
       "  3192,\n",
       "  3174,\n",
       "  2782,\n",
       "  2790,\n",
       "  3182,\n",
       "  3210,\n",
       "  2822,\n",
       "  3272,\n",
       "  3266,\n",
       "  3016,\n",
       "  1656,\n",
       "  2382,\n",
       "  3050,\n",
       "  3184,\n",
       "  3284,\n",
       "  1710,\n",
       "  2884,\n",
       "  2642,\n",
       "  2826,\n",
       "  3510,\n",
       "  3574,\n",
       "  3700,\n",
       "  3512,\n",
       "  3636,\n",
       "  3312,\n",
       "  3420,\n",
       "  2646,\n",
       "  3024,\n",
       "  3218,\n",
       "  3610,\n",
       "  3278,\n",
       "  3356,\n",
       "  3340,\n",
       "  2676,\n",
       "  3198,\n",
       "  2708,\n",
       "  3556,\n",
       "  3644,\n",
       "  3626,\n",
       "  3464,\n",
       "  3674,\n",
       "  3466,\n",
       "  3522,\n",
       "  3738,\n",
       "  3418,\n",
       "  3164,\n",
       "  3030,\n",
       "  3012,\n",
       "  2868,\n",
       "  2330,\n",
       "  3144,\n",
       "  2670,\n",
       "  2318,\n",
       "  1608,\n",
       "  3014,\n",
       "  2722,\n",
       "  3286,\n",
       "  3270,\n",
       "  3186,\n",
       "  3042,\n",
       "  3210,\n",
       "  3202,\n",
       "  2078,\n",
       "  1544,\n",
       "  2658,\n",
       "  2782,\n",
       "  2626,\n",
       "  2336,\n",
       "  2412]}"
      ]
     },
     "execution_count": 62,
     "metadata": {},
     "output_type": "execute_result"
    }
   ],
   "source": [
    "pds_kub_grafi"
   ]
  },
  {
   "cell_type": "markdown",
   "metadata": {},
   "source": [
    "### FILTRIRANJE GRAFOV IN ISKANJE MAKSIMALNE VREDNOSTI PDS(G)"
   ]
  },
  {
   "cell_type": "code",
   "execution_count": 24,
   "metadata": {},
   "outputs": [
    {
     "name": "stdout",
     "output_type": "stream",
     "text": [
      "{'dvodelen': (Graph on 5 vertices, 38), 'trikoten': (Graph on 5 vertices, 165), 'ostalo': (Graph on 5 vertices, 25)}\n"
     ]
    }
   ],
   "source": [
    "# funkcija bo pogledala vsak graf iz množice vseh grafov, izračunala njegovo vrednost PDS(G), nato pa si ga bo zapomnila, če bo \n",
    "# ta vrednost maksimalna v primerjavi z vrednostmi ostalih grafov\n",
    "\n",
    "def max_pds():\n",
    "    grafi_z_vrednostmi = {}\n",
    "    max_vrednost = 0\n",
    "    for G in ustvari_vse_grafe():\n",
    "        if G.is_bipartite():\n",
    "            if pds(G) == max(max_vrednost, pds(G)):\n",
    "                grafi_z_vrednostmi[\"dvodelen\"] = (G, pds(G))\n",
    "                max_vrednost = pds(G)\n",
    "        elif G.subgraph_search(Graph({1: [2, 3], 2: [3]})) is not None:\n",
    "            if pds(G) == max(max_vrednost, pds(G)):\n",
    "                if pds(G) == max(max_vrednost, pds(G)):\n",
    "                    grafi_z_vrednostmi[\"trikoten\"] = (G, pds(G))\n",
    "                    max_vrednost = pds(G)\n",
    "        elif all(G.degree(v) == 3 for v in G.vertices()):\n",
    "            if pds(G) == max(max_vrednost, pds(G)):\n",
    "                grafi_z_vrednostmi[\"kubicen\"] = (G, pds(G))\n",
    "                max_vrednost = pds(G)\n",
    "        else:\n",
    "            if pds(G) == max(max_vrednost, pds(G)):\n",
    "                grafi_z_vrednostmi[\"ostalo\"] = (G, pds(G))\n",
    "                max_vrednost = pds(G)\n",
    "\n",
    "    return grafi_z_vrednostmi\n",
    "\n",
    "\n",
    "\n",
    "# klic funkcije\n",
    "print(max_pds())"
   ]
  }
 ],
 "metadata": {
  "kernelspec": {
   "display_name": "SageMath 10.4",
   "language": "sage",
   "name": "sagemath"
  },
  "language_info": {
   "codemirror_mode": {
    "name": "ipython",
    "version": 3
   },
   "file_extension": ".py",
   "mimetype": "text/x-python",
   "name": "python",
   "nbconvert_exporter": "python",
   "pygments_lexer": "ipython3",
   "version": "3.12.7"
  }
 },
 "nbformat": 4,
 "nbformat_minor": 2
}
