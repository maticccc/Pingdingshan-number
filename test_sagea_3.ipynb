{
 "cells": [
  {
   "cell_type": "markdown",
   "metadata": {},
   "source": [
    "# PINGDINDSHAN'S NUMBER \n"
   ]
  },
  {
   "cell_type": "markdown",
   "metadata": {},
   "source": [
    "## PREIZKUŠANJE FUNKCIJ SAGEA"
   ]
  },
  {
   "cell_type": "code",
   "execution_count": 2,
   "metadata": {},
   "outputs": [
    {
     "data": {
      "image/png": "[encoded data removed]",
      "text/plain": [
       "Graphics object consisting of 12 graphics primitives"
      ]
     },
     "metadata": {},
     "output_type": "display_data"
    }
   ],
   "source": [
    "### Koda v Sage-u, ki izriše graf s 5 vozlišči in 6 povezavami\n",
    "\n",
    "# Uvozim razred Graph iz SageMath-a\n",
    "G = Graph()\n",
    "\n",
    "# Dodam 5 vozlišč\n",
    "G.add_vertices([1, 2, 3, 4, 5])\n",
    "\n",
    "# Vozliščem dodam povezave\n",
    "edges = [(1, 2), (2, 3), (3, 4), (4, 5), (5, 1), (2, 5)]\n",
    "G.add_edges(edges)\n",
    "\n",
    "# Izrišem graf\n",
    "G.show()\n",
    "# dob bibuuerb"
   ]
  },
  {
   "cell_type": "markdown",
   "metadata": {},
   "source": [
    "## FUNKCIJA PDS"
   ]
  },
  {
   "cell_type": "code",
   "execution_count": 3,
   "metadata": {},
   "outputs": [],
   "source": [
    "#%%cython\n",
    "# Hitrejsa razlicica stetja poti - ce ne deluje, odstrani zgornjo vrstico in glej spodaj se v funkciji pds!\n",
    "\n",
    "from sage.combinat.combination import Combinations\n",
    "from sage.rings.integer import Integer\n",
    "\n",
    "\n",
    "def count_paths(G, start, end):\n",
    "    \"\"\"\n",
    "    Presteje poti v neusmerjenem grafu ``G`` od ``start`` do ``end``.\n",
    "\n",
    "    Koda je povzeta po ``sage.graphs.path_enumeration.all_paths``.\n",
    "    \"\"\"\n",
    "    count_paths = Integer(0)\n",
    "    act_path = []       # the current path\n",
    "    act_path_iter = []  # the neighbor/successor-iterators of the current path\n",
    "    s = start\n",
    "    while True:\n",
    "        if s == end:    # if path completes, add to count\n",
    "            count_paths += Integer(1)\n",
    "        else:\n",
    "            if s not in act_path:   # we want vertices just once in a path\n",
    "                act_path.append(s)  # extend current path\n",
    "                act_path_iter.append(G.neighbor_iterator(s))  # save the state of the neighbor/successor-iterator of the current vertex\n",
    "        s = None\n",
    "        while s is None:\n",
    "            try:\n",
    "                s = next(act_path_iter[-1])  # try to get the next neighbor/successor, ...\n",
    "            except (StopIteration):          # ... if there is none ...\n",
    "                act_path.pop()               # ... go one step back\n",
    "                act_path_iter.pop()\n",
    "            if not act_path:                 # there is no other vertex ...\n",
    "                return count_paths           # ... so we are done\n",
    "\n",
    "\n",
    "def pds(G):\n",
    "    \"\"\"\n",
    "    Presteje poti v neusmerjenem grafu ``G``.\n",
    "    \"\"\"\n",
    "    count = G.order()\n",
    "    for u, v in Combinations(G, 2):\n",
    "        #count += count_paths(G, u, v) # ce ne deluje s %%cython, zakomentiraj to in odkomentiraj naslednjo vrstico\n",
    "        count += len(G.all_paths(u, v))\n",
    "    return count"
   ]
  },
  {
   "cell_type": "code",
   "execution_count": 4,
   "metadata": {},
   "outputs": [
    {
     "data": {
      "text/plain": [
       "37"
      ]
     },
     "execution_count": 4,
     "metadata": {},
     "output_type": "execute_result"
    }
   ],
   "source": [
    "pds(G)"
   ]
  },
  {
   "cell_type": "code",
   "execution_count": 5,
   "metadata": {},
   "outputs": [
    {
     "data": {
      "image/png": "[encoded data removed]",
      "text/plain": [
       "Graphics object consisting of 12 graphics primitives"
      ]
     },
     "metadata": {},
     "output_type": "display_data"
    }
   ],
   "source": [
    "H = graphs.RandomGNM(6,5)\n",
    "H.show()"
   ]
  },
  {
   "cell_type": "markdown",
   "metadata": {},
   "source": [
    "## VSI GRAFI"
   ]
  },
  {
   "cell_type": "markdown",
   "metadata": {},
   "source": [
    "Spodaj je definirana funkcija ustvari_vse_grafe, ki ustvari vse povezane grafe na $1,...,8$ vozliščih. Funkcija vključi vse neizomorfne grafe."
   ]
  },
  {
   "cell_type": "code",
   "execution_count": 247,
   "metadata": {},
   "outputs": [],
   "source": [
    "# Funkcija, ki ustvari generatorje za vse grafe na i=1,...,12 vozliščih. Generator pomeni,\n",
    "# da je v pomnilniku le navodilo za ustvarjanje grafa, ne pa celoten graf. Zaradi tega je \n",
    "# program hitrejši in porabi manj prostora na pomnilniku. Funkcija vrne 12 generatorjev,\n",
    "# vsak naj bi vrnil vse grafe na i vozliščih ( en generator za vsak i)\n",
    "def gen_vsi_grafi():\n",
    "    gen_vseh = []\n",
    "    for i in range(1, 9):\n",
    "        gen_vseh.append(graphs.nauty_geng(f\"{i} -c\"))\n",
    "    return gen_vseh\n",
    "\n",
    "len(gen_vsi_grafi())\n",
    "gen_vsi_grafi = gen_vsi_grafi()"
   ]
  },
  {
   "cell_type": "markdown",
   "metadata": {},
   "source": [
    "### FILTRIRANJE GRAFOV IN ISKANJE MAKSIMALNE VREDNOSTI PDS(G)"
   ]
  },
  {
   "cell_type": "code",
   "execution_count": 7,
   "metadata": {},
   "outputs": [],
   "source": [
    "# funkcija, ki gre skozi vse grafe na 1, ... , 8 vozliščih, izračuna njihov PDS in nato ustvari slovar, kjer so\n",
    "# ključi števila vozlišč, vrednost pa je največji PDS za vsakega od vozlišč izmed vseh grafov s tem številom vozlišč\n",
    "def max_pds():\n",
    "    max_dict = {}\n",
    "    for grafi in gen_vsi_grafi():\n",
    "        for G in grafi:\n",
    "            maks = 0\n",
    "            if pds(G) == max(maks, pds(G)):\n",
    "                maks = pds(G)\n",
    "        max_dict[G.order()] = maks\n",
    "    return max_dict\n",
    "    \n",
    "max_dict = max_pds()\n",
    "\n"
   ]
  },
  {
   "cell_type": "code",
   "execution_count": 8,
   "metadata": {},
   "outputs": [
    {
     "name": "stdout",
     "output_type": "stream",
     "text": [
      "{1: 1, 2: 3, 3: 9, 4: 34, 5: 165, 6: 981, 7: 6853, 8: 54804}\n"
     ]
    }
   ],
   "source": [
    "print(max_dict)"
   ]
  },
  {
   "cell_type": "code",
   "execution_count": 9,
   "metadata": {},
   "outputs": [
    {
     "data": {
      "image/png": "[encoded data removed]",
      "text/plain": [
       "<Figure size 1000x500 with 1 Axes>"
      ]
     },
     "metadata": {},
     "output_type": "display_data"
    }
   ],
   "source": [
    "# izrisan graf, ki prikazuje rast PDS v odvisnosti od števila vozlišč\n",
    "import matplotlib.pyplot as plt\n",
    "\n",
    "def narisi_graf(dict):\n",
    "    x = list(dict.keys())\n",
    "    y = list(dict.values())\n",
    "    plt.figure(figsize=(10, 5))\n",
    "    plt.plot(x, y, marker='o')\n",
    "    plt.xlabel('Število vozlišč')\n",
    "    plt.ylabel('PDS(G)')\n",
    "    plt.title('Maksimalne vrednosti PDS v odvisnosti od števila vozlišč')\n",
    "    plt.grid(True)\n",
    "    plt.show()\n",
    "\n",
    "narisi_graf(max_dict)\n"
   ]
  },
  {
   "cell_type": "markdown",
   "metadata": {},
   "source": [
    "## DVODELNI GRAFI"
   ]
  },
  {
   "cell_type": "code",
   "execution_count": 10,
   "metadata": {},
   "outputs": [],
   "source": [
    "pds_dvodelni = {}\n",
    "def st_poti(seznam_grafov):\n",
    "    \n",
    "    for G in seznam_grafov:\n",
    "        st_vozlisc = len(G.vertices())\n",
    "        if pds_dvodelni.get(st_vozlisc) is None:\n",
    "            pds_dvodelni[st_vozlisc] = []\n",
    "        pds_dvodelni[st_vozlisc] = pds_dvodelni[st_vozlisc].append(pds(G))\n",
    "    return pds_dvodelni \n"
   ]
  },
  {
   "cell_type": "markdown",
   "metadata": {},
   "source": [
    "## GRAFI BREZ CIKLOV DOLŽINE TRI"
   ]
  },
  {
   "cell_type": "markdown",
   "metadata": {},
   "source": [
    "Naslednja funkcija iz množice vseh grafov izbere tiste, ki ne vsebujejo trikotnikov oz. cikov dolžine 3. To stori za vse grafe z 1,...,12 vozlišči"
   ]
  },
  {
   "cell_type": "code",
   "execution_count": 153,
   "metadata": {},
   "outputs": [],
   "source": [
    "def gen_grafi_brez_trikotnikov():\n",
    "    gen_brez_trik = []\n",
    "    for i in range(1,9):\n",
    "        gen_brez_trik.append(graphs.nauty_geng(f\"{i} -c -t\"))\n",
    "    return gen_brez_trik\n",
    "\n",
    "grafi_brez_trikotnikov = gen_grafi_brez_trikotnikov()"
   ]
  },
  {
   "cell_type": "markdown",
   "metadata": {},
   "source": [
    "Naslednja funkcija med grafi poišče max pds v skupini grafov brez trikotnikov.\n"
   ]
  },
  {
   "cell_type": "code",
   "execution_count": 154,
   "metadata": {},
   "outputs": [],
   "source": [
    "def max_pds_trik():\n",
    "    max_dict_trik = {}\n",
    "    for grafi in grafi_brez_trikotnikov:\n",
    "        for G in grafi:\n",
    "            maks = 0\n",
    "            if pds(G) == max(maks, pds(G)):\n",
    "                maks = pds(G)\n",
    "        max_dict_trik[G.order()] = maks\n",
    "    return max_dict_trik\n",
    "\n",
    "max_dict_trik = max_pds_trik()"
   ]
  },
  {
   "cell_type": "code",
   "execution_count": 13,
   "metadata": {},
   "outputs": [
    {
     "name": "stdout",
     "output_type": "stream",
     "text": [
      "{1: 1, 2: 3, 3: 6, 4: 16, 5: 25, 6: 141, 7: 124, 8: 460}\n"
     ]
    }
   ],
   "source": [
    "print(max_dict_trik)"
   ]
  },
  {
   "cell_type": "markdown",
   "metadata": {},
   "source": [
    "Za vsak graf brez trikotnikov izračunamo pds. Glede na število poti, naslednja funkcija oblikuje slovar, ki vsakemu številu vozlišč od 1 do 12 pripiše preštete poti na vseh grafih s takim številom vozlišč.\n"
   ]
  },
  {
   "cell_type": "code",
   "execution_count": 150,
   "metadata": {},
   "outputs": [
    {
     "data": {
      "text/plain": [
       "[<generator object GraphGenerators.nauty_geng at 0x7f514165bca0>,\n",
       " <generator object GraphGenerators.nauty_geng at 0x7f514165b4c0>,\n",
       " <generator object GraphGenerators.nauty_geng at 0x7f5140e9d930>,\n",
       " <generator object GraphGenerators.nauty_geng at 0x7f5140e9d690>,\n",
       " <generator object GraphGenerators.nauty_geng at 0x7f5140e9d7e0>,\n",
       " <generator object GraphGenerators.nauty_geng at 0x7f5140e9d540>,\n",
       " <generator object GraphGenerators.nauty_geng at 0x7f5140e9d3f0>,\n",
       " <generator object GraphGenerators.nauty_geng at 0x7f5140e9d2a0>]"
      ]
     },
     "execution_count": 150,
     "metadata": {},
     "output_type": "execute_result"
    }
   ],
   "source": [
    "grafi_brez_trikotnikov"
   ]
  },
  {
   "cell_type": "code",
   "execution_count": 193,
   "metadata": {},
   "outputs": [],
   "source": [
    "def gen_grafi_brez_trikotnikov():\n",
    "    gen_brez_trik = []\n",
    "    for i in range(1,9):\n",
    "        gen_brez_trik.append(graphs.nauty_geng(f\"{i} -c -t\"))\n",
    "    return gen_brez_trik\n",
    "\n",
    "grafi_brez_trikotnikov = gen_grafi_brez_trikotnikov()"
   ]
  },
  {
   "cell_type": "code",
   "execution_count": 194,
   "metadata": {},
   "outputs": [
    {
     "data": {
      "text/plain": [
       "{1: (Graph on 1 vertex, 1),\n",
       " 2: (Graph on 2 vertices, 3),\n",
       " 3: (Graph on 3 vertices, 6),\n",
       " 4: (Graph on 4 vertices, 16),\n",
       " 5: (Graph on 5 vertices, 25),\n",
       " 6: (Graph on 6 vertices, 141),\n",
       " 7: (Graph on 7 vertices, 124),\n",
       " 8: (Graph on 8 vertices, 460)}"
      ]
     },
     "execution_count": 194,
     "metadata": {},
     "output_type": "execute_result"
    }
   ],
   "source": [
    "slovar_brez_trikotnikov = {\n",
    "    1:[], 2:[], 3:[], 4:[], 5:[], 6:[],7:[], 8:[]}\n",
    "\n",
    "def pds_brez_trikotnikov():\n",
    "    for gen in grafi_brez_trikotnikov:\n",
    "        for g in gen:\n",
    "            if pds(g) == max_dict_trik.get(g.order()):\n",
    "                slovar_brez_trikotnikov[g.order()]=(g,pds(g))\n",
    "    return slovar_brez_trikotnikov\n",
    "\n",
    "pds_brez_trikotnikov= pds_brez_trikotnikov()\n",
    "pds_brez_trikotnikov"
   ]
  },
  {
   "cell_type": "markdown",
   "metadata": {},
   "source": [
    "## KUBIČNI GRAFI"
   ]
  },
  {
   "cell_type": "markdown",
   "metadata": {},
   "source": [
    "Za kubične grafe velja, da imajo vsa vozlišča v takem grafu stopnjo natanko 3 (pravimo jim tudi 3-regularni grafi). Lastnost kubičnih grafov je tudi, da jih lahko dobimo le na sodo mnogo vozliščih. Spodnji funkciji služita generaciji teh grafov na i vozluščih za i=1,...,12 in šteju vseh poti na teh grafih."
   ]
  },
  {
   "cell_type": "code",
   "execution_count": 28,
   "metadata": {},
   "outputs": [
    {
     "data": {
      "text/plain": [
       "[<generator object GraphGenerators.nauty_geng at 0x7f514165aa40>,\n",
       " <generator object GraphGenerators.nauty_geng at 0x7f514165ab90>,\n",
       " <generator object GraphGenerators.nauty_geng at 0x7f514165ace0>]"
      ]
     },
     "execution_count": 28,
     "metadata": {},
     "output_type": "execute_result"
    }
   ],
   "source": [
    "def gen_kub_grafi():\n",
    "    gen_kub_grafi = []\n",
    "    for i in range(4,9,2):\n",
    "        gen_kub_grafi.append(graphs.nauty_geng(f\"{i} -c -d3 -D3\"))\n",
    "    return gen_kub_grafi\n",
    "\n",
    "kub_grafi = gen_kub_grafi()\n",
    "kub_grafi"
   ]
  },
  {
   "cell_type": "code",
   "execution_count": 16,
   "metadata": {},
   "outputs": [],
   "source": [
    "# funkcija, ki izračuna maksimalno št. poti\n",
    "def max_pds_kub():\n",
    "    max_dict_kub = {}\n",
    "    for gen in kub_grafi:\n",
    "        for G in gen:\n",
    "            maks = 0\n",
    "            if pds(G) == max(maks, pds(G)):\n",
    "                maks = pds(G)\n",
    "        max_dict_kub[G.order()] = maks\n",
    "    return max_dict_kub\n",
    "\n",
    "max_dict_kub = max_pds_kub()"
   ]
  },
  {
   "cell_type": "code",
   "execution_count": 17,
   "metadata": {},
   "outputs": [
    {
     "name": "stdout",
     "output_type": "stream",
     "text": [
      "{4: 34, 6: 135, 8: 446}\n"
     ]
    }
   ],
   "source": [
    "print(max_dict_kub)"
   ]
  },
  {
   "cell_type": "code",
   "execution_count": null,
   "metadata": {},
   "outputs": [],
   "source": [
    "def gen_kub_grafi():\n",
    "    gen_kub_grafi = []\n",
    "    for i in range(4,9,2):\n",
    "        gen_kub_grafi.append(graphs.nauty_geng(f\"{i} -c -d3 -D3\"))\n",
    "    return gen_kub_grafi\n",
    "\n",
    "kub_grafi = gen_kub_grafi()\n",
    "kub_grafi"
   ]
  },
  {
   "cell_type": "code",
   "execution_count": 29,
   "metadata": {},
   "outputs": [
    {
     "data": {
      "text/plain": [
       "{4: (Graph on 4 vertices, 34),\n",
       " 6: (Graph on 6 vertices, 135),\n",
       " 8: (Graph on 8 vertices, 446)}"
      ]
     },
     "execution_count": 29,
     "metadata": {},
     "output_type": "execute_result"
    }
   ],
   "source": [
    "slovar_kub_grafi = {\n",
    "    4:[],6:[],8:[]}\n",
    "\n",
    "def pds_kub_grafi():\n",
    "    for gen in kub_grafi:\n",
    "        for g in gen:\n",
    "            if pds(g) == max_dict_kub.get(g.order()):\n",
    "                slovar_kub_grafi[g.order()]=(g,pds(g))\n",
    "    return slovar_kub_grafi\n",
    "\n",
    "pds_kub_grafi= pds_kub_grafi()\n",
    "pds_kub_grafi"
   ]
  },
  {
   "cell_type": "markdown",
   "metadata": {},
   "source": [
    "## POVZETEK PRVE TOČKE\n"
   ]
  },
  {
   "cell_type": "markdown",
   "metadata": {},
   "source": [
    "V zgornji kodi sva s pomočjo nauty.geng metod poiskala grafe v posameznih družinah, ki imajo na i=1,...,8 vozliščih (za kubične na 4,6,8) največje števlo pds. "
   ]
  },
  {
   "cell_type": "markdown",
   "metadata": {},
   "source": [
    "### VSI GRAFI"
   ]
  },
  {
   "cell_type": "markdown",
   "metadata": {},
   "source": [
    "### DVODELNI GRAFI"
   ]
  },
  {
   "cell_type": "code",
   "execution_count": 20,
   "metadata": {},
   "outputs": [],
   "source": [
    "# funkcija, ki pogleda če kateri od dvodelnih grafov na vozliščih 1, ... , 8 doseže največje \n",
    "# število PDS in ga doda v slovar\n",
    "def pds_dvodelni_grafi():\n",
    "    slovar_dvodelni_grafi = {}\n",
    "    for gen in gen_vsi_grafi():\n",
    "        for g in gen:\n",
    "            if g.is_bipartite() and pds(g) == max_dict.get(g.order()):\n",
    "                slovar_dvodelni_grafi[g.order()] = (g,pds(g))\n",
    "    return slovar_dvodelni_grafi\n",
    "\n",
    "dvodelni = pds_dvodelni_grafi()\n",
    "dvodelni\n",
    "\n",
    "# naslednja funkcija pa za vsako število vozlišč 1, ... , 8 izračuna in v slovar shrani maksimalno PDS\n",
    "# število od dvodelnega grafa s tistim številom vozlišč\n",
    "\n",
    "def max_pds_dvodelni():\n",
    "    max_dict_dvodelni = {}\n",
    "    for grafi in gen_vsi_grafi():\n",
    "        for G in grafi:\n",
    "            if G.is_bipartite():\n",
    "                maks = 0\n",
    "                if pds(G) == max(maks, pds(G)) and G.is_bipartite():\n",
    "                    maks = pds(G)\n",
    "        max_dict_dvodelni[G.order()] = maks\n",
    "    return max_dict_dvodelni\n",
    "\n",
    "max_dvodelni = max_pds_dvodelni()"
   ]
  },
  {
   "cell_type": "code",
   "execution_count": 21,
   "metadata": {},
   "outputs": [
    {
     "data": {
      "text/plain": [
       "{1: 1, 2: 3, 3: 6, 4: 16, 5: 15, 6: 141, 7: 124, 8: 237}"
      ]
     },
     "execution_count": 21,
     "metadata": {},
     "output_type": "execute_result"
    }
   ],
   "source": [
    "max_dvodelni"
   ]
  },
  {
   "cell_type": "code",
   "execution_count": 23,
   "metadata": {},
   "outputs": [
    {
     "data": {
      "image/png": "[encoded data removed]",
      "text/plain": [
       "<Figure size 1000x600 with 1 Axes>"
      ]
     },
     "metadata": {},
     "output_type": "display_data"
    }
   ],
   "source": [
    "# funkcija za vhodne podatke vzame štiri slovarje, ki vsebuje maksimalno PDS število na vsakem vozlišču\n",
    "# za vsakega od štirih tipov grafiv, ki sva jih znotraj naloge obravnavala in nato izriše te vrednosti\n",
    "import matplotlib.pyplot as plt\n",
    "\n",
    "def plot_multiple_dicts_log_scale(vsi, trik, dvod, kub):\n",
    "    x_1, y_1 = list(vsi.keys()), list(vsi.values())\n",
    "    x_2, y_2 = list(trik.keys()), list(trik.values())\n",
    "    x_3, y_3 = list(dvod.keys()), list(dvod.values())\n",
    "    x_4, y_4 = list(kub.keys()), list(kub.values())\n",
    "    \n",
    "    plt.style.use('ggplot')\t\n",
    "\n",
    "    plt.figure(figsize = (10, 6))\n",
    "    plt.plot(x_1, y_1, marker='o', label='Vsi grafi')\n",
    "    plt.plot(x_2, y_2, marker='o', label='Grafi brez trikotnikov')\n",
    "    plt.plot(x_3, y_3, marker='o', label='Dvodelni grafi')\n",
    "    plt.plot(x_4, y_4, marker='o', label='Kubični grafi')\n",
    "    \n",
    "    plt.xlabel('Število vozlišč')\n",
    "    plt.ylabel('PDS(G)')\n",
    "    plt.yscale('log')\n",
    "    plt.title('PDS(G) v odvisnosti od števila vozlišč z logaritmirano skalo') \n",
    "    plt.legend()\n",
    "    plt.grid(True)\n",
    "    plt.show()\n",
    "    \n",
    "\n",
    "plot_multiple_dicts_log_scale(max_dict, max_dict_trik, max_dvodelni, max_kub)"
   ]
  },
  {
   "cell_type": "markdown",
   "metadata": {},
   "source": [
    "Za kubične grafe velja, da ima vsako vozlišče stopnjo natanko 3. Iz tega sledi, da je število povezav v kubičnem grafu na i vozliščih natanko 3*i/2 povezav. To se ujema z vrednostmi v slovarju, a je v tem primeru pds število neodvisno od števila povezav v grafu?"
   ]
  },
  {
   "cell_type": "markdown",
   "metadata": {},
   "source": [
    "### STOHASTIČNA ANALIZA"
   ]
  },
  {
   "cell_type": "markdown",
   "metadata": {},
   "source": [
    "Stohastične analize se bova lotila tako, da bova grafom z maksimalnim pds-jem odstanila naključno povezavo in opazovala kako se mu spreminja pds. Najina predspostavka namreč je, da več kot ima graf povezav, višji bo njegov pds. Iz te predpostavke bi sledilo, da bodo najvišje pds.je imeli polni grafi na i vozliščih. pogledala bova razmerja med številom povezav in pds-jem v originalnem grafu in v tistem z odstranjeno povezavo.\n"
   ]
  },
  {
   "cell_type": "markdown",
   "metadata": {},
   "source": [
    "Naslednja funkcija namenjena odstranitvi naključne povezave v grafu, ki ni most. Zadnji podatek je ključen, da novo dobljeni graf ostane povezan (pds iščemo zgolj na povezanih grafih)."
   ]
  },
  {
   "cell_type": "code",
   "execution_count": 223,
   "metadata": {},
   "outputs": [],
   "source": [
    "import random\n",
    "def odstranitev_povezave(graf):\n",
    "    if not graf.edges():\n",
    "        return graf\n",
    "    else:\n",
    "        mostovi = set(graf.bridges())\n",
    "        vse_povezave = set(graf.edges())\n",
    "        ne_most = vse_povezave - mostovi\n",
    "        if not ne_most:\n",
    "            return graf\n",
    "        else:\n",
    "            nak_pov = random.choice(list(ne_most))\n",
    "            graf.delete_edge(nak_pov)\n",
    "            return graf\n"
   ]
  },
  {
   "cell_type": "code",
   "execution_count": null,
   "metadata": {},
   "outputs": [],
   "source": [
    "def stevilo_povezav(slovar):\n",
    "    slovar_povezav = {}\n",
    "    for kljuc in slovar.keys():\n",
    "        graf,maks = slovar[kljuc]\n",
    "        slovar_povezav[kljuc]= graf.num_edges()\n",
    "    return slovar_povezav\n"
   ]
  },
  {
   "cell_type": "code",
   "execution_count": 240,
   "metadata": {},
   "outputs": [],
   "source": [
    "def razmerje(stevilo_povezav, slovar_pds):\n",
    "    razmerja = {}\n",
    "    for kljuc in stevilo_povezav:\n",
    "        graf,stevilo = slovar_pds[kljuc]\n",
    "        razmerja[kljuc] = stevilo_povezav[kljuc] / stevilo\n",
    "\n",
    "    return razmerja\n"
   ]
  },
  {
   "cell_type": "markdown",
   "metadata": {},
   "source": [
    "#### VSI GRAFI"
   ]
  },
  {
   "cell_type": "markdown",
   "metadata": {},
   "source": [
    "#### DVODELNI GRAFI"
   ]
  },
  {
   "cell_type": "markdown",
   "metadata": {},
   "source": [
    "#### GRAFI BREZ TRIKOTNIKOV "
   ]
  },
  {
   "cell_type": "code",
   "execution_count": 218,
   "metadata": {},
   "outputs": [
    {
     "data": {
      "text/plain": [
       "{1: (Graph on 1 vertex, 1),\n",
       " 2: (Graph on 2 vertices, 3),\n",
       " 3: (Graph on 3 vertices, 6),\n",
       " 4: (Graph on 4 vertices, 10),\n",
       " 5: (Graph on 5 vertices, 15),\n",
       " 6: (Graph on 6 vertices, 88),\n",
       " 7: (Graph on 7 vertices, 74),\n",
       " 8: (Graph on 8 vertices, 281)}"
      ]
     },
     "execution_count": 218,
     "metadata": {},
     "output_type": "execute_result"
    }
   ],
   "source": [
    "def nov_grafi_trik():\n",
    "    spremenjeni_grafi = {}\n",
    "    for kljuc in pds_brez_trikotnikov:\n",
    "        graf, pds_grafa = pds_brez_trikotnikov[kljuc]\n",
    "        kopija = graf.copy()\n",
    "        nov_graf = odstranitev_povezave(kopija)\n",
    "        nov_pds = pds(nov_graf)\n",
    "        spremenjeni_grafi[kljuc] = (nov_graf, nov_pds)\n",
    "    \n",
    "    return spremenjeni_grafi\n",
    "\n",
    "\n",
    "nov_grafi_trik = nov_grafi_trik()\n",
    "nov_grafi_trik\n"
   ]
  },
  {
   "cell_type": "markdown",
   "metadata": {},
   "source": [
    "##### RAZMERJA:"
   ]
  },
  {
   "cell_type": "code",
   "execution_count": 233,
   "metadata": {},
   "outputs": [],
   "source": [
    "vsi_grafi_brez_trik_st_povezav = stevilo_povezav(pds_brez_trikotnikov)"
   ]
  },
  {
   "cell_type": "code",
   "execution_count": 241,
   "metadata": {},
   "outputs": [
    {
     "data": {
      "text/plain": [
       "{1: 0.0,\n",
       " 2: 0.3333333333333333,\n",
       " 3: 0.3333333333333333,\n",
       " 4: 0.25,\n",
       " 5: 0.2,\n",
       " 6: 0.06382978723404255,\n",
       " 7: 0.07258064516129033,\n",
       " 8: 0.02608695652173913}"
      ]
     },
     "execution_count": 241,
     "metadata": {},
     "output_type": "execute_result"
    }
   ],
   "source": [
    "razmerje_vsi_grafi_brez_trik = razmerje(vsi_grafi_brez_trik_st_povezav, pds_brez_trikotnikov)\n",
    "razmerje_vsi_grafi_brez_trik"
   ]
  },
  {
   "cell_type": "code",
   "execution_count": 235,
   "metadata": {},
   "outputs": [],
   "source": [
    "prilagojeni_grafi_brez_trik_st_pov = stevilo_povezav(nov_grafi_trik)"
   ]
  },
  {
   "cell_type": "code",
   "execution_count": 236,
   "metadata": {},
   "outputs": [],
   "source": [
    "razmerje_prilagojeni_grafi_brez_trik = razmerje(prilagojeni_grafi_brez_trik_st_pov, nov_grafi_trik)"
   ]
  },
  {
   "cell_type": "code",
   "execution_count": 237,
   "metadata": {},
   "outputs": [
    {
     "data": {
      "text/plain": [
       "{1: 0.0,\n",
       " 2: 0.3333333333333333,\n",
       " 3: 0.3333333333333333,\n",
       " 4: 0.3,\n",
       " 5: 0.26666666666666666,\n",
       " 6: 0.09090909090909091,\n",
       " 7: 0.10810810810810811,\n",
       " 8: 0.03914590747330961}"
      ]
     },
     "execution_count": 237,
     "metadata": {},
     "output_type": "execute_result"
    }
   ],
   "source": [
    "razmerje_prilagojeni_grafi_brez_trik"
   ]
  },
  {
   "cell_type": "markdown",
   "metadata": {},
   "source": [
    "kot vidimo so razmerja narasla. Ker se je število povezav v števcu zmanjšalo samo za 1, moramo velike spremembe v številu razlerja pripisati imenovalcu. Kot vemo bo številka večja, če bo imenovalec manjši iz česar lahko sklepamo da je pds v prilagojenih grafih precej padel. Opazimo tudi, da večje kot je število vozlišč bolj opazna je sprememba v razmerju.\n",
    "OPOMBA: za vrednosti i=1,2,3,4 se graf ni spremenil, saj so vse povezave v teh grafih mostivi in če bi jih vzeli ven bi naš graf razpadel na več delov. "
   ]
  },
  {
   "cell_type": "markdown",
   "metadata": {},
   "source": [
    "#### KUBIČNI GRAFI"
   ]
  },
  {
   "cell_type": "markdown",
   "metadata": {},
   "source": [
    "OPOMBA: Če kubičnemu grafu odstanimo eno povezavo, ta NI VEČ kubičen, saj dve vozlišči nimate več stopnje tri."
   ]
  },
  {
   "cell_type": "code",
   "execution_count": 222,
   "metadata": {},
   "outputs": [
    {
     "data": {
      "text/plain": [
       "{4: (Graph on 4 vertices, 23),\n",
       " 6: (Graph on 6 vertices, 80),\n",
       " 8: (Graph on 8 vertices, 280)}"
      ]
     },
     "execution_count": 222,
     "metadata": {},
     "output_type": "execute_result"
    }
   ],
   "source": [
    "def novi_grafi_kub():\n",
    "    spremenjeni_grafi = {}\n",
    "    for kljuc in pds_kub_grafi:\n",
    "        graf, pds_grafa = pds_kub_grafi[kljuc]\n",
    "        kopija = graf.copy()\n",
    "        nov_graf = odstranitev_povezave(kopija)\n",
    "        nov_pds = pds(nov_graf)\n",
    "        spremenjeni_grafi[kljuc] = (nov_graf, nov_pds)\n",
    "    \n",
    "    return spremenjeni_grafi\n",
    "\n",
    "novi_grafi_kub = novi_grafi_kub()\n",
    "novi_grafi_kub"
   ]
  },
  {
   "cell_type": "markdown",
   "metadata": {},
   "source": [
    "##### RAZMERJA:\n"
   ]
  },
  {
   "cell_type": "code",
   "execution_count": 242,
   "metadata": {},
   "outputs": [],
   "source": [
    "vsi_kub_st_pov = stevilo_povezav(pds_kub_grafi)"
   ]
  },
  {
   "cell_type": "code",
   "execution_count": 243,
   "metadata": {},
   "outputs": [],
   "source": [
    "novi_kub_st_pov = stevilo_povezav(novi_grafi_kub)"
   ]
  },
  {
   "cell_type": "code",
   "execution_count": 245,
   "metadata": {},
   "outputs": [
    {
     "data": {
      "text/plain": [
       "{4: 0.17647058823529413, 6: 0.06666666666666667, 8: 0.026905829596412557}"
      ]
     },
     "execution_count": 245,
     "metadata": {},
     "output_type": "execute_result"
    }
   ],
   "source": [
    "razmerje_kub_grafi = razmerje(vsi_kub_st_pov, pds_kub_grafi)\n",
    "razmerje_kub_grafi"
   ]
  },
  {
   "cell_type": "code",
   "execution_count": 246,
   "metadata": {},
   "outputs": [
    {
     "data": {
      "text/plain": [
       "{4: 0.21739130434782608, 6: 0.1, 8: 0.039285714285714285}"
      ]
     },
     "execution_count": 246,
     "metadata": {},
     "output_type": "execute_result"
    }
   ],
   "source": [
    "razmerje_novi_kub_grafi = razmerje(novi_kub_st_pov, novi_grafi_kub)\n",
    "razmerje_novi_kub_grafi"
   ]
  },
  {
   "cell_type": "markdown",
   "metadata": {},
   "source": [
    "Enako kot pri grafih brez trikotnikov je razmerje naraslo. To ahko razložilmmo na enak način kot zgoraj."
   ]
  },
  {
   "cell_type": "markdown",
   "metadata": {},
   "source": [
    "### POLNI GRAFI"
   ]
  },
  {
   "cell_type": "markdown",
   "metadata": {},
   "source": [
    "Najina hipoteza pravi, da več kot ima graf povezav, večje bo njegovo pds število. Da bi se približala potrditvi te najine hipoteze bova pogledala še pds števila polnih grafov na i vozliščih za i=1,2,...8. Te bova primerjala z maksimalnimi pds števili za vse grafe. "
   ]
  },
  {
   "cell_type": "code",
   "execution_count": 251,
   "metadata": {},
   "outputs": [],
   "source": [
    "def slovar_polni_grafi():\n",
    "    slovar ={}\n",
    "    for gen in gen_vsi_grafi:\n",
    "        for g in gen:\n",
    "            graf = Graph(g)  # Pretvori v SageMath graf\n",
    "            n = graf.order()  # Število vozlišč\n",
    "            max_edges = n * (n - 1) // 2  # Število povezav v polnem grafu\n",
    "            if graf.size() == max_edges:  # Preveri, ali ima maksimalno število povezav\n",
    "                slovar[graf.order()] = (graf, pds(graf))\n",
    "    return slovar\n",
    "\n",
    "slovar_polni_grafi = slovar_polni_grafi()"
   ]
  },
  {
   "cell_type": "code",
   "execution_count": 252,
   "metadata": {},
   "outputs": [
    {
     "data": {
      "text/plain": [
       "{3: (Graph on 3 vertices, 9),\n",
       " 4: (Graph on 4 vertices, 34),\n",
       " 5: (Graph on 5 vertices, 165),\n",
       " 6: (Graph on 6 vertices, 981),\n",
       " 7: (Graph on 7 vertices, 6853),\n",
       " 8: (Graph on 8 vertices, 54804)}"
      ]
     },
     "execution_count": 252,
     "metadata": {},
     "output_type": "execute_result"
    }
   ],
   "source": [
    "slovar_polni_grafi"
   ]
  }
 ],
 "metadata": {
  "kernelspec": {
   "display_name": "SageMath 10.4",
   "language": "sage",
   "name": "sagemath"
  },
  "language_info": {
   "codemirror_mode": {
    "name": "ipython",
    "version": 3
   },
   "file_extension": ".py",
   "mimetype": "text/x-python",
   "name": "python",
   "nbconvert_exporter": "python",
   "pygments_lexer": "ipython3",
   "version": "3.11.10"
  }
 },
 "nbformat": 4,
 "nbformat_minor": 2
}
